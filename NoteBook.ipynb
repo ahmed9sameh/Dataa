{
 "cells": [
  {
   "cell_type": "markdown",
   "id": "09106890-3b30-4abb-86c1-bf7693d8b392",
   "metadata": {},
   "source": [
    "# My Jupyter Notebook on IBM Watson Studio"
   ]
  },
  {
   "cell_type": "markdown",
   "id": "ea015d43-fa1d-4421-9f58-8f2a47c8470f",
   "metadata": {},
   "source": [
    "**Ahmed Sameh** Data Scientist"
   ]
  },
  {
   "cell_type": "markdown",
   "id": "c66843a8-e067-431e-b5e9-75a565dc22c0",
   "metadata": {},
   "source": [
    "*I am intersted in Data Science because it shapes the world around us and it is like playing a detective game of where might the insights be*"
   ]
  },
  {
   "cell_type": "markdown",
   "id": "e9f4c47c-76b6-493e-817e-03e5fa0c5cda",
   "metadata": {},
   "source": [
    "### The Code in Cell 5 prints true if x=1 and false elsewhere"
   ]
  },
  {
   "cell_type": "code",
   "execution_count": 2,
   "id": "6b940445-46df-43b3-9683-d91eeb29d410",
   "metadata": {},
   "outputs": [
    {
     "name": "stdout",
     "output_type": "stream",
     "text": [
      "False\n"
     ]
    }
   ],
   "source": [
    "x=1\n",
    "if (x==2):\n",
    "    print(\"True\")\n",
    "else:\n",
    "    print(\"False\")"
   ]
  },
  {
   "cell_type": "markdown",
   "id": "a4a224fc-93ee-441e-af25-9520e502c69a",
   "metadata": {},
   "source": [
    "* Data Science Certificate\n",
    "* What is Data Science\n",
    "* Data science Tools\n",
    "\n",
    "1. Data Science Certificate\n",
    "2. What is Data Science\n",
    "3. Data science Tools\n",
    "\n",
    "Re \n",
    "![alt text][logo]\n",
    "\n",
    "[logo]: https://github.com/adam-p/markdown-here/raw/master/src/common/images/icon48.png \"Logo Title Text 2\""
   ]
  },
  {
   "cell_type": "code",
   "execution_count": null,
   "id": "3a715045-77e5-4155-ac50-2a932b71c45f",
   "metadata": {},
   "outputs": [],
   "source": []
  }
 ],
 "metadata": {
  "kernelspec": {
   "display_name": "Python",
   "language": "python",
   "name": "conda-env-python-py"
  },
  "language_info": {
   "codemirror_mode": {
    "name": "ipython",
    "version": 3
   },
   "file_extension": ".py",
   "mimetype": "text/x-python",
   "name": "python",
   "nbconvert_exporter": "python",
   "pygments_lexer": "ipython3",
   "version": "3.7.12"
  }
 },
 "nbformat": 4,
 "nbformat_minor": 5
}
